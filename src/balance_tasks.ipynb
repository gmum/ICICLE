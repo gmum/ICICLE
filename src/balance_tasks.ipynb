{
 "cells": [
  {
   "cell_type": "code",
   "execution_count": 1,
   "metadata": {},
   "outputs": [],
   "source": [
    "import torch \n",
    "from matplotlib import pyplot as plt\n",
    "import seaborn as sns\n",
    "import numpy as np\n",
    "import sys\n",
    "sys.path.append('./continual_protoparts/src/')\n",
    "from networks.protopartnet import construct_PPNet\n",
    "from networks.network import LLL_Net_PPNet\n",
    "from datasets.data_loader import get_loaders\n",
    "from datasets.dataset_config import dataset_config\n",
    "\n",
    "import utils\n",
    "from networks.protopartnet import push\n",
    "\n",
    "utils.seed_everything(seed=0)"
   ]
  },
  {
   "cell_type": "code",
   "execution_count": 2,
   "metadata": {},
   "outputs": [],
   "source": [
    "import pandas as pd"
   ]
  },
  {
   "cell_type": "code",
   "execution_count": 3,
   "metadata": {},
   "outputs": [],
   "source": [
    "from matplotlib import pyplot as plt"
   ]
  },
  {
   "cell_type": "code",
   "execution_count": 4,
   "metadata": {},
   "outputs": [],
   "source": [
    "trn_loader, val_loader, tst_loader, psh_loader, taskcla = get_loaders(\n",
    "    ['cub_200_2011_cropped'], \n",
    "#     ['cars_gmum'], \n",
    "    4,\n",
    "    None,\n",
    "    80, \n",
    "    num_workers=6,\n",
    "    pin_memory=False)"
   ]
  },
  {
   "cell_type": "code",
   "execution_count": 5,
   "metadata": {},
   "outputs": [],
   "source": [
    "exp_path = './' #PATH\n"
   ]
  },
  {
   "cell_type": "code",
   "execution_count": 111,
   "metadata": {},
   "outputs": [],
   "source": [
    "num_tasks = 3\n",
    "num_cls = 50\n",
    "depth = 256\n",
    "focal = False\n",
    "\n",
    "sim_vals = []\n",
    "labels = []\n",
    "logits_all = []\n",
    "dists = []\n",
    "conv_outs_all = []\n",
    "\n",
    "for num_task in range(num_tasks + 1):\n",
    "    init_model = construct_PPNet(\n",
    "                'resnet34', pretrained=True, img_size=224,\n",
    "                prototype_shape=(int(10 * num_cls), depth, 1, 1), num_classes=int(num_cls),\n",
    "                prototype_activation_function='log',\n",
    "                add_on_layers_type='linear',\n",
    "                focal=focal,\n",
    "                warm_num=5,\n",
    "                push_at=8,\n",
    "                num_push_tune=5,\n",
    "                incorrect_weight_btw_tasks=False,\n",
    "                share_add_ons=True\n",
    "                )\n",
    "    net = LLL_Net_PPNet(init_model, remove_existing_head=True)\n",
    "    model = torch.load(f'{exp_path}/models/task{num_task}.ckpt')\n",
    "    for i in range(num_task + 1):\n",
    "        net.add_head(num_cls)\n",
    "\n",
    "    net.load_state_dict(model)\n",
    "    net.cuda()\n",
    "    \n",
    "    similarity = []\n",
    "    label = []\n",
    "    logit_all = []\n",
    "    dist = []\n",
    "    conv_outs = []\n",
    "\n",
    "    for t in range(num_task + 1):\n",
    "        net.eval()\n",
    "        with torch.no_grad():\n",
    "            for img, lab in tst_loader[t]:\n",
    "                img = img.cuda()\n",
    "                lab = lab.cuda()\n",
    "                out = net(img)\n",
    "                conv_out = net.model.conv_features(img)\n",
    "                conv_outs.append(conv_out)\n",
    "                logits = [out[i][1] for i in range(len(out))]\n",
    "                min_dists = [out[i][2] for i in range(len(out))]\n",
    "                min_dists = torch.cat(min_dists, dim=1)\n",
    "                dist.append(min_dists.cpu().numpy())\n",
    "                sims = net.heads[0].distance_2_similarity(min_dists)\n",
    "                sims = sims.reshape(-1, num_cls*(num_task + 1), 10)\n",
    "                similarity.append(sims.cpu().numpy())\n",
    "                label.append(lab.cpu().numpy())\n",
    "                logit_all.append(torch.cat(logits, dim=1).cpu().numpy())\n",
    "    sim_vals.append(np.concatenate(similarity))\n",
    "    labels.append(np.concatenate(label))\n",
    "    logits_all.append(np.concatenate(logit_all))\n",
    "    dists.append(np.concatenate(dist))\n",
    "    conv_outs_all.append(conv_outs)\n",
    "#     break"
   ]
  },
  {
   "cell_type": "code",
   "execution_count": 214,
   "metadata": {},
   "outputs": [],
   "source": [
    "last_task_logits = logits_all[-1]"
   ]
  },
  {
   "cell_type": "code",
   "execution_count": 216,
   "metadata": {},
   "outputs": [
    {
     "data": {
      "text/plain": [
       "[<matplotlib.lines.Line2D at 0x7fef9a0a3af0>]"
      ]
     },
     "execution_count": 216,
     "metadata": {},
     "output_type": "execute_result"
    },
    {
     "data": {
      "image/png": "[encoded data removed]",
      "text/plain": [
       "<Figure size 432x288 with 1 Axes>"
      ]
     },
     "metadata": {
      "needs_background": "light"
     },
     "output_type": "display_data"
    }
   ],
   "source": [
    "plt.plot(last_task_logits[:len(labels[0])].mean(0)[:50], '*')\n",
    "plt.plot(range(50, 100), last_task_logits[len(labels[0]):len(labels[1])].mean(0)[50:100], '*')\n",
    "plt.plot(range(100, 150), last_task_logits[len(labels[1]):len(labels[2])].mean(0)[100:150], '*')\n",
    "plt.plot(range(150, 200), last_task_logits[len(labels[2]):len(labels[3])].mean(0)[150:], '*')"
   ]
  },
  {
   "cell_type": "code",
   "execution_count": 224,
   "metadata": {},
   "outputs": [],
   "source": [
    "lamb_p = 0.9"
   ]
  },
  {
   "cell_type": "code",
   "execution_count": 225,
   "metadata": {},
   "outputs": [
    {
     "data": {
      "text/plain": [
       "3"
      ]
     },
     "execution_count": 225,
     "metadata": {},
     "output_type": "execute_result"
    }
   ],
   "source": [
    "last_task_only_logits = last_task_logits[len(labels[2]):len(labels[3])]\n",
    "(last_task_only_logits.argmax(1) < 50).sum()"
   ]
  },
  {
   "cell_type": "code",
   "execution_count": 226,
   "metadata": {},
   "outputs": [],
   "source": [
    "lamb = (lamb_p - 0.05) * (len(last_task_only_logits) - (last_task_only_logits.argmax(1) < 50).sum())\n",
    "val_t = 0.01 \n",
    "last_task_only_logits_temp = last_task_only_logits.copy()\n",
    "last_task_only_logits_temp[:, 0:50] = last_task_only_logits[:, 0:50] + val_t\n",
    "perc = (len(last_task_only_logits) - (last_task_only_logits.argmax(1) < 50).sum()) / len(last_task_only_logits)\n",
    "while perc * len(last_task_only_logits) > lamb:\n",
    "    val_t += 0.005\n",
    "    last_task_only_logits_temp[:, 0:50] = last_task_only_logits[:, 0:50]  + val_t\n",
    "    perc = (len(last_task_only_logits) - (last_task_only_logits_temp.argmax(1) < 50).sum()) / len(last_task_only_logits)\n",
    "\n",
    "last_task_logits_balanced[:, :50] = last_task_logits_balanced[:, :50] + val_t\n"
   ]
  },
  {
   "cell_type": "code",
   "execution_count": 228,
   "metadata": {},
   "outputs": [],
   "source": [
    "lamb = (lamb_p + 0.05) * (len(last_task_only_logits) - ((last_task_only_logits[:, 50:].argmax(1) < 50)).sum())\n",
    "val_t = 0.01 \n",
    "last_task_only_logits_temp = last_task_only_logits.copy()\n",
    "last_task_only_logits_temp[:, 50:100] = last_task_only_logits[:, 50:100] + val_t\n",
    "perc = (len(last_task_only_logits) - ((last_task_only_logits[:, 50:].argmax(1) < 50)).sum()) / len(last_task_only_logits)\n",
    "while perc * len(last_task_only_logits) > lamb:\n",
    "    val_t += 0.005\n",
    "    last_task_only_logits_temp[:, 50:100] = last_task_only_logits[:, 50:100] + val_t\n",
    "    perc = (len(last_task_only_logits) - ((last_task_only_logits_temp[:, 50:].argmax(1) < 50)).sum()) / len(last_task_only_logits)\n",
    "\n",
    "last_task_logits_balanced[:, 50:100] = last_task_logits_balanced[:, 50:100] + val_t\n"
   ]
  },
  {
   "cell_type": "code",
   "execution_count": 229,
   "metadata": {},
   "outputs": [],
   "source": [
    "lamb = (lamb_p + 0.05) * (len(last_task_only_logits) - ((last_task_only_logits[:, 100:].argmax(1) < 50)).sum())\n",
    "val_t = 0.01 \n",
    "last_task_only_logits_temp = last_task_only_logits.copy()\n",
    "last_task_only_logits_temp[:, 100:150] = last_task_only_logits[:, 100:150] + val_t\n",
    "perc = (len(last_task_only_logits) - ((last_task_only_logits[:, 100:].argmax(1) < 50)).sum()) / len(last_task_only_logits)\n",
    "while perc * len(last_task_only_logits) > lamb:\n",
    "    val_t += 0.005\n",
    "    last_task_only_logits_temp[:, 100:150] = last_task_only_logits[:, 100:150] + val_t\n",
    "    perc = (len(last_task_only_logits) - ((last_task_only_logits_temp[:, 100:].argmax(1) < 50)).sum()) / len(last_task_only_logits)\n",
    "\n",
    "last_task_logits_balanced[:, 100:150] = last_task_logits_balanced[:, 100:150] + val_t\n"
   ]
  },
  {
   "cell_type": "code",
   "execution_count": 230,
   "metadata": {},
   "outputs": [],
   "source": [
    "lamb = (lamb_p + 0.09) * (len(last_task_only_logits) - ((last_task_only_logits[:, 150:].argmax(1) < 50)).sum())\n",
    "val_t = 0.01 \n",
    "last_task_only_logits_temp = last_task_only_logits.copy()\n",
    "last_task_only_logits_temp[:, 150:200] = last_task_only_logits[:, 150:200] + val_t\n",
    "perc = (len(last_task_only_logits) - ((last_task_only_logits[:, 150:].argmax(1) < 50)).sum()) / len(last_task_only_logits)\n",
    "while perc * len(last_task_only_logits) > lamb:\n",
    "    val_t += 0.005\n",
    "    last_task_only_logits_temp[:, 150:200] = last_task_only_logits[:, 150:200] + val_t\n",
    "    perc = (len(last_task_only_logits) - ((last_task_only_logits_temp[:, 150:].argmax(1) < 50)).sum()) / len(last_task_only_logits)\n",
    "\n",
    "last_task_logits_balanced[:, 150:200] = last_task_logits_balanced[:, 150:200] + val_t\n"
   ]
  },
  {
   "cell_type": "code",
   "execution_count": 231,
   "metadata": {},
   "outputs": [],
   "source": [
    "s = (np.argmax(last_task_logits_balanced, axis=1) == labels[-1]).sum()"
   ]
  },
  {
   "cell_type": "code",
   "execution_count": 232,
   "metadata": {},
   "outputs": [],
   "source": [
    "t0 = (np.argmax(last_task_logits_balanced, axis=1) == labels[-1])[:len(labels[0])].sum() / len(labels[0])\n",
    "t1 = (np.argmax(last_task_logits_balanced, axis=1) == labels[-1])[len(labels[0]):len(labels[1])].sum() / (len(labels[1]) - len(labels[0]))\n",
    "t2 = (np.argmax(last_task_logits_balanced, axis=1) == labels[-1])[len(labels[1]):len(labels[2])].sum() / (len(labels[2]) - len(labels[1]))\n",
    "t3 = (np.argmax(last_task_logits_balanced, axis=1) == labels[-1])[len(labels[2]):len(labels[3])].sum() / (len(labels[3]) - len(labels[2]))"
   ]
  },
  {
   "cell_type": "code",
   "execution_count": 233,
   "metadata": {},
   "outputs": [
    {
     "data": {
      "text/plain": [
       "(0.2570621468926554,\n",
       " 0.4141891891891892,\n",
       " 0.3324022346368715,\n",
       " 0.44474761255115963,\n",
       " 0.36210029581746894)"
      ]
     },
     "execution_count": 233,
     "metadata": {},
     "output_type": "execute_result"
    }
   ],
   "source": [
    "t0, t1, t2, t3, (t1+t2+t3+t0) / 4"
   ]
  },
  {
   "cell_type": "code",
   "execution_count": 212,
   "metadata": {},
   "outputs": [
    {
     "data": {
      "text/plain": [
       "[<matplotlib.lines.Line2D at 0x7fefbf7e0880>]"
      ]
     },
     "execution_count": 212,
     "metadata": {},
     "output_type": "execute_result"
    },
    {
     "data": {
      "image/png": "[encoded data removed]",
      "text/plain": [
       "<Figure size 432x288 with 1 Axes>"
      ]
     },
     "metadata": {
      "needs_background": "light"
     },
     "output_type": "display_data"
    }
   ],
   "source": [
    "plt.plot(np.median(last_task_logits_balanced[:len(labels[0])], axis=0)[:50], 'r*')\n",
    "plt.plot(range(50, 100), np.median(last_task_logits_balanced[len(labels[0]):len(labels[1])], axis=0)[50:100], 'b*')\n",
    "plt.plot(range(100, 150), np.median(last_task_logits_balanced[len(labels[1]):len(labels[2])], axis=0)[100:150], 'g*')\n",
    "plt.plot(range(150, 200), np.median(last_task_logits_balanced[len(labels[2]):len(labels[3])], axis=0)[150:], 'm*')"
   ]
  }
 ],
 "metadata": {
  "kernelspec": {
   "display_name": "Python 3",
   "language": "python",
   "name": "python3"
  },
  "language_info": {
   "codemirror_mode": {
    "name": "ipython",
    "version": 3
   },
   "file_extension": ".py",
   "mimetype": "text/x-python",
   "name": "python",
   "nbconvert_exporter": "python",
   "pygments_lexer": "ipython3",
   "version": "3.8.3"
  }
 },
 "nbformat": 4,
 "nbformat_minor": 5
}
